{
 "cells": [
  {
   "cell_type": "code",
   "execution_count": null,
   "metadata": {},
   "outputs": [],
   "source": [
    "from bs4 import BeautifulSoup\n",
    "import requests\n",
    "import openpyxl\n",
    "import re\n",
    "from openpyxl import load_workbook\n",
    "import collections\n",
    "import gskrawler"
   ]
  },
  {
   "cell_type": "code",
   "execution_count": 1,
   "metadata": {},
   "outputs": [],
   "source": [
    "def crawler(list_of_urls):\n",
    "    allMails = []\n",
    "    for url in list_of_urls:\n",
    "        allLinks = [];mails=[]\n",
    "        try:\n",
    "            response = requests.get(url)\n",
    "        except:\n",
    "            allMails.append(mails)\n",
    "            continue\n",
    "        soup=BeautifulSoup(response.text,'html.parser')\n",
    "        links = [a.attrs.get('href') for a in soup.select('a[href]') ]\n",
    "        for i in links:\n",
    "            if((\"contact\" in i or \"Contact\")or(\"Career\" in i or \"career\" in i))or('about' in i or \"About\" in i)or('Services' in i or 'services' in i):\n",
    "                allLinks.append(i)\n",
    "        allLinks=set(allLinks)\n",
    "        def findMails(soup):\n",
    "            for name in soup.find_all('a'):\n",
    "                if(name is not None):\n",
    "                    emailText=name.text\n",
    "                    match=bool(re.match('[a-zA-Z0-9_.+-]+@[a-zA-Z0-9-]+\\.[a-zA-Z0-9-.]+$',emailText))\n",
    "                    if('@' in emailText and match==True):\n",
    "                        emailText=emailText.replace(\" \",'').replace('\\r','')\n",
    "                        emailText=emailText.replace('\\n','').replace('\\t','')\n",
    "                        if(len(mails)==0)or(emailText not in mails):\n",
    "                            print(emailText)\n",
    "                        mails.append(emailText)\n",
    "        for link in allLinks:\n",
    "            if(link.startswith(\"http\") or link.startswith(\"www\")):\n",
    "                try:\n",
    "                    r=requests.get(link)\n",
    "                    data=r.text\n",
    "                    soup=BeautifulSoup(data,'html.parser')\n",
    "                    findMails(soup)\n",
    "                except:\n",
    "                    continue\n",
    "\n",
    "            else:\n",
    "                try:\n",
    "                    newurl=url+link\n",
    "                    r=requests.get(newurl)\n",
    "                    data=r.text\n",
    "                    soup=BeautifulSoup(data,'html.parser')\n",
    "                    findMails(soup)\n",
    "                except:\n",
    "                    continue\n",
    "\n",
    "        mails=set(mails)\n",
    "        if(len(mails)==0):\n",
    "            print(\"NO MAILS FOUND\")\n",
    "        allMails.append(mails)\n",
    "    return allMails\n",
    "    #print(allMails)"
   ]
  },
  {
   "cell_type": "code",
   "execution_count": null,
   "metadata": {},
   "outputs": [],
   "source": []
  }
 ],
 "metadata": {
  "kernelspec": {
   "display_name": "Python 3",
   "language": "python",
   "name": "python3"
  },
  "language_info": {
   "codemirror_mode": {
    "name": "ipython",
    "version": 3
   },
   "file_extension": ".py",
   "mimetype": "text/x-python",
   "name": "python",
   "nbconvert_exporter": "python",
   "pygments_lexer": "ipython3",
   "version": "3.7.6rc1"
  }
 },
 "nbformat": 4,
 "nbformat_minor": 2
}
