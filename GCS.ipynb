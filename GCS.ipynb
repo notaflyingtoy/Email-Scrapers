{
 "cells": [
  {
   "cell_type": "code",
   "execution_count": 5,
   "metadata": {},
   "outputs": [],
   "source": [
    "from bs4 import BeautifulSoup\n",
    "import requests\n",
    "import openpyxl\n",
    "import re\n",
    "from openpyxl import load_workbook\n",
    "title=\"\"\n",
    "suffix=\"\"\n",
    "wb = load_workbook('GW.xlsx')\n",
    "GCSsh=wb[\"GCS\"]\n"
   ]
  },
  {
   "cell_type": "code",
   "execution_count": 6,
   "metadata": {},
   "outputs": [],
   "source": [
    "def getinformation(row):\n",
    "#function to accumulate datas from <div class=\"row\"> input\n",
    "    personprofile=row.find(\"div\", {\"class\":\"col-sm-6\"})\n",
    "    nameposdeplong=[personprofile.strip() for personprofile in personprofile.text.splitlines()]\n",
    "    nameposdep=list(filter(None,nameposdeplong))\n",
    "    first1=[]\n",
    "    last1=[]\n",
    "    name=nameposdep[0].split(\" \")\n",
    "    for index, namez in enumerate(name):\n",
    "        if index==0:\n",
    "            first1.append(namez)\n",
    "        else:\n",
    "            last1.append(namez)\n",
    "\n",
    "    first=\" \".join(first1)\n",
    "    last=\" \".join(last1)\n",
    "    position=nameposdep[1]\n",
    "    department=nameposdep[2]\n",
    "    \n",
    "    contact=row.find(\"div\", {\"class\":\"col-sm-6 text-right\"})\n",
    "    emailtelelong=[contact.strip() for contact in contact.text.splitlines()]\n",
    "    emailtele=list(filter(None,emailtelelong))\n",
    "    email=emailtele[0]\n",
    "    if len(emailtele)>1 and emailtele[1].find(\"Tel:\") != -1:\n",
    "        telephone1=emailtele[1]\n",
    "        telephone=telephone1.strip(\"Tel: \")\n",
    "    else:\n",
    "        telephone=None\n",
    "    datas=[title, first, last, suffix, position, department, email, telephone]\n",
    "    return list(filter (None, datas))\n",
    "\n"
   ]
  },
  {
   "cell_type": "code",
   "execution_count": 7,
   "metadata": {},
   "outputs": [],
   "source": [
    "organisations1=[]\n",
    "departmentnopage=[]\n",
    "departmentnopageformat=[]\n",
    "\n",
    "#creating a list of governmental departments\n",
    "url=\"https://gcs.civilservice.gov.uk/membership/search/results?organisation=department-for-exiting-the-european-union&sub_organisation=&searchtype=department\"\n",
    "page=requests.get(url).content\n",
    "soup = BeautifulSoup(page, 'html.parser')\n",
    "\n",
    "for dep in soup.find(\"select\").find_all(\"option\"):\n",
    "    value=dep.get(\"value\")\n",
    "    organisations1.append(value)\n",
    "organisations2=list(filter(None,organisations1))\n",
    "\n",
    "#creating list with search results for each department\n",
    "for agency in organisations2:\n",
    "    deps=\"https://gcs.civilservice.gov.uk/membership/search/results?organisation={}&sub_organisation=&searchtype=department&page=\".format(agency)\n",
    "    departmentnopage.append(deps)\n",
    "    \n",
    "for pages in departmentnopage:\n",
    "    pages=pages+\"{}\"\n",
    "    \n",
    "    for i in range(1,23):\n",
    "        gcspages=pages.format(i)\n",
    "        page=requests.get(gcspages).content\n",
    "        souper = BeautifulSoup(page, 'html.parser')\n",
    "        \n",
    "        if souper.find(text=\"No records found!\"):\n",
    "            continue\n",
    "        else: \n",
    "            departmentnopageformat.append(souper)"
   ]
  },
  {
   "cell_type": "code",
   "execution_count": 8,
   "metadata": {},
   "outputs": [],
   "source": [
    "#extracting rows from pages\n",
    "\n",
    "for depnopag in departmentnopageformat:#depnopag=1page\n",
    "    allrows=depnopag.find_all('div', {'class':'row'})#returns list with all rows on one page\n",
    "    readyrows=[]\n",
    "    rowstobegot1=[]\n",
    "    \n",
    "    for people in allrows:\n",
    "        if people.find('a', {'class':'person-profile'}):\n",
    "            rowstobegot1.append(people)\n",
    "        else:\n",
    "            continue\n",
    "\n",
    "    readyrows=rowstobegot1[1:]\n",
    "    for final in readyrows:\n",
    "        a=getinformation(final)\n",
    "        GCSsh.append(a)\n",
    "wb.save('GW.xlsx')"
   ]
  },
  {
   "cell_type": "code",
   "execution_count": null,
   "metadata": {},
   "outputs": [],
   "source": []
  },
  {
   "cell_type": "code",
   "execution_count": null,
   "metadata": {},
   "outputs": [],
   "source": []
  }
 ],
 "metadata": {
  "kernelspec": {
   "display_name": "Python 3",
   "language": "python",
   "name": "python3"
  },
  "language_info": {
   "codemirror_mode": {
    "name": "ipython",
    "version": 3
   },
   "file_extension": ".py",
   "mimetype": "text/x-python",
   "name": "python",
   "nbconvert_exporter": "python",
   "pygments_lexer": "ipython3",
   "version": "3.7.6rc1"
  }
 },
 "nbformat": 4,
 "nbformat_minor": 2
}
