{
 "cells": [
  {
   "cell_type": "code",
   "execution_count": null,
   "metadata": {},
   "outputs": [],
   "source": [
    "from bs4 import BeautifulSoup\n",
    "import openpyxl\n",
    "import re\n",
    "from openpyxl import load_workbook\n",
    "import grequests\n",
    "import requests\n",
    "import sys\n",
    "sys.setrecursionlimit(2000)\n",
    "\n",
    "r=[]\n",
    "rs=[]\n",
    "b=[]\n",
    "ba=[]\n",
    "for i in range(0,4900):      #Number of pages is 4875 \n",
    "    url1 = \"https://members.parliament.uk/member/{}/career\".format(i)\n",
    "    url2 = \"https://members.parliament.uk/member/{}/contact\".format(i)\n",
    "    ba.append([url1,url2])\n",
    "for career, contact in ba:\n",
    "    x=grequests.get(career)\n",
    "    y=grequests.get(contact)\n",
    "    ba.append([x,y])\n",
    "b=grequests.map(rs)\n",
    "for response1, response2 in b:\n",
    "    soup1=BeautifulSoup(response1, 'html.parser')\n",
    "    soup2=BeautifulSoup(response2, 'html.parser')\n",
    "    r.append([soup1,soup2])\n",
    "print(r[0])\n",
    "#print(b[0])\n",
    "    "
   ]
  },
  {
   "cell_type": "code",
   "execution_count": 1,
   "metadata": {},
   "outputs": [],
   "source": [
    "from bs4 import BeautifulSoup\n",
    "import openpyxl\n",
    "import re\n",
    "from openpyxl import load_workbook\n",
    "\n",
    "import requests"
   ]
  },
  {
   "cell_type": "code",
   "execution_count": 7,
   "metadata": {},
   "outputs": [
    {
     "name": "stdout",
     "output_type": "stream",
     "text": [
      "Representation\n",
      "Party affiliation\n",
      "None None\n"
     ]
    }
   ],
   "source": [
    "\n",
    "url = \"https://members.parliament.uk/member/150/career\"\n",
    "page=requests.get(url).content\n",
    "soup = BeautifulSoup(page, 'html.parser')\n",
    "\n",
    "current=soup.find(\"div\", {\"card-box\"})\n",
    "h4categories=current.find_all(\"h4\")\n",
    "h4catstrips=[h4.string.strip() for h4 in h4categories]\n",
    "divcategories=current.find_all(\"div\", {\"card-list\"})\n",
    "informationdict={}\n",
    "for h4,div in zip(h4catstrips,divcategories):\n",
    "    print(h4)\n",
    "    if \"Representation\" in h4:\n",
    "        info=div.find(\"div\", {\"class\":\"primary-info\"}).string.strip()\n",
    "    elif \"Party affiliation\" in h4:\n",
    "        info=div.find(\"div\", {\"class\":\"primary-info\"}).string.strip()\n",
    "    else:\n",
    "        if \"Committee\" in h4:\n",
    "            infon=div.find_all(\"div\", {\"class\":\"primary-info\"})\n",
    "            info=[]\n",
    "            for info1 in infon:\n",
    "                a=info1.string.strip()\n",
    "                info.append(a)\n",
    "        elif \"Other Post\" in h4:\n",
    "            infon=div.find_all(\"div\", {\"class\":\"primary-info\"})\n",
    "            info=[]\n",
    "            for info1 in infon:\n",
    "                a=info1.string.strip()\n",
    "                info.append(a)\n",
    "        else:\n",
    "            info1=div.find(\"div\", {\"class\":\"primary-info\"}).string.strip()\n",
    "            try:\n",
    "                info2=div.find(\"div\", {\"class\":\"secondary-info\"}).string.strip()\n",
    "            except:\n",
    "                info2=None\n",
    "            info=[info1,info2]\n",
    "            print(info)\n",
    "informationdict[h4]=info\n",
    "\n",
    "posdep=[informationdict.get(\"Government post\"),informationdict.get(\"Government posts\"),\\\n",
    "informationdict.get(\"Opposition post\"), informationdict.get(\"Opposition posts\")]\n",
    "try:\n",
    "    posdep2=next(item for item in posdep if item is not None)\n",
    "except:\n",
    "    posdep2=StopIteration\n",
    "if posdep2==StopIteration:\n",
    "    Position=None\n",
    "    Department=None\n",
    "else:\n",
    "    Position=posdep2[0]\n",
    "    Department=posdep2[1]\n",
    "print(Position, Department)"
   ]
  },
  {
   "cell_type": "code",
   "execution_count": null,
   "metadata": {},
   "outputs": [],
   "source": []
  }
 ],
 "metadata": {
  "kernelspec": {
   "display_name": "Python 3",
   "language": "python",
   "name": "python3"
  },
  "language_info": {
   "codemirror_mode": {
    "name": "ipython",
    "version": 3
   },
   "file_extension": ".py",
   "mimetype": "text/x-python",
   "name": "python",
   "nbconvert_exporter": "python",
   "pygments_lexer": "ipython3",
   "version": "3.7.6rc1"
  }
 },
 "nbformat": 4,
 "nbformat_minor": 2
}
